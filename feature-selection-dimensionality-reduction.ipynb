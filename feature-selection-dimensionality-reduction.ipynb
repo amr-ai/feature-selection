{
 "cells": [
  {
   "cell_type": "code",
   "execution_count": 2,
   "metadata": {
    "execution": {
     "iopub.execute_input": "2020-12-06T10:28:23.639101Z",
     "iopub.status.busy": "2020-12-06T10:28:23.638288Z",
     "iopub.status.idle": "2020-12-06T10:28:25.155608Z",
     "shell.execute_reply": "2020-12-06T10:28:25.154725Z"
    },
    "papermill": {
     "duration": 1.580677,
     "end_time": "2020-12-06T10:28:25.155746",
     "exception": false,
     "start_time": "2020-12-06T10:28:23.575069",
     "status": "completed"
    },
    "tags": []
   },
   "outputs": [],
   "source": [
    "#import library\n",
    "import pandas as pd\n",
    "import numpy as np\n",
    "import matplotlib.pyplot as plt\n",
    "from sklearn.model_selection import train_test_split\n",
    "from sklearn.ensemble import RandomForestClassifier\n",
    "from sklearn.metrics import confusion_matrix, f1_score, accuracy_score\n",
    "from statsmodels.stats.outliers_influence import variance_inflation_factor\n",
    "from sklearn.feature_selection import VarianceThreshold, SelectKBest, chi2, RFE, RFECV\n",
    "from sklearn.decomposition import PCA"
   ]
  },
  {
   "cell_type": "code",
   "execution_count": 42,
   "metadata": {
    "execution": {
     "iopub.execute_input": "2020-12-06T10:28:25.383152Z",
     "iopub.status.busy": "2020-12-06T10:28:25.382364Z",
     "iopub.status.idle": "2020-12-06T10:28:25.438417Z",
     "shell.execute_reply": "2020-12-06T10:28:25.439005Z"
    },
    "papermill": {
     "duration": 0.118506,
     "end_time": "2020-12-06T10:28:25.439150",
     "exception": false,
     "start_time": "2020-12-06T10:28:25.320644",
     "status": "completed"
    },
    "scrolled": true,
    "tags": []
   },
   "outputs": [
    {
     "name": "stdout",
     "output_type": "stream",
     "text": [
      "Shape of dataframe:  (2000, 21)\n"
     ]
    },
    {
     "data": {
      "text/html": [
       "<div>\n",
       "<style scoped>\n",
       "    .dataframe tbody tr th:only-of-type {\n",
       "        vertical-align: middle;\n",
       "    }\n",
       "\n",
       "    .dataframe tbody tr th {\n",
       "        vertical-align: top;\n",
       "    }\n",
       "\n",
       "    .dataframe thead th {\n",
       "        text-align: right;\n",
       "    }\n",
       "</style>\n",
       "<table border=\"1\" class=\"dataframe\">\n",
       "  <thead>\n",
       "    <tr style=\"text-align: right;\">\n",
       "      <th></th>\n",
       "      <th>battery_power</th>\n",
       "      <th>blue</th>\n",
       "      <th>clock_speed</th>\n",
       "      <th>dual_sim</th>\n",
       "      <th>fc</th>\n",
       "      <th>four_g</th>\n",
       "      <th>int_memory</th>\n",
       "      <th>m_dep</th>\n",
       "      <th>mobile_wt</th>\n",
       "      <th>n_cores</th>\n",
       "      <th>...</th>\n",
       "      <th>px_height</th>\n",
       "      <th>px_width</th>\n",
       "      <th>ram</th>\n",
       "      <th>sc_h</th>\n",
       "      <th>sc_w</th>\n",
       "      <th>talk_time</th>\n",
       "      <th>three_g</th>\n",
       "      <th>touch_screen</th>\n",
       "      <th>wifi</th>\n",
       "      <th>price_range</th>\n",
       "    </tr>\n",
       "  </thead>\n",
       "  <tbody>\n",
       "    <tr>\n",
       "      <th>0</th>\n",
       "      <td>842</td>\n",
       "      <td>0</td>\n",
       "      <td>2.2</td>\n",
       "      <td>0</td>\n",
       "      <td>1</td>\n",
       "      <td>0</td>\n",
       "      <td>7</td>\n",
       "      <td>0.6</td>\n",
       "      <td>188</td>\n",
       "      <td>2</td>\n",
       "      <td>...</td>\n",
       "      <td>20</td>\n",
       "      <td>756</td>\n",
       "      <td>2549</td>\n",
       "      <td>9</td>\n",
       "      <td>7</td>\n",
       "      <td>19</td>\n",
       "      <td>0</td>\n",
       "      <td>0</td>\n",
       "      <td>1</td>\n",
       "      <td>1</td>\n",
       "    </tr>\n",
       "    <tr>\n",
       "      <th>1</th>\n",
       "      <td>1021</td>\n",
       "      <td>1</td>\n",
       "      <td>0.5</td>\n",
       "      <td>1</td>\n",
       "      <td>0</td>\n",
       "      <td>1</td>\n",
       "      <td>53</td>\n",
       "      <td>0.7</td>\n",
       "      <td>136</td>\n",
       "      <td>3</td>\n",
       "      <td>...</td>\n",
       "      <td>905</td>\n",
       "      <td>1988</td>\n",
       "      <td>2631</td>\n",
       "      <td>17</td>\n",
       "      <td>3</td>\n",
       "      <td>7</td>\n",
       "      <td>1</td>\n",
       "      <td>1</td>\n",
       "      <td>0</td>\n",
       "      <td>2</td>\n",
       "    </tr>\n",
       "    <tr>\n",
       "      <th>2</th>\n",
       "      <td>563</td>\n",
       "      <td>1</td>\n",
       "      <td>0.5</td>\n",
       "      <td>1</td>\n",
       "      <td>2</td>\n",
       "      <td>1</td>\n",
       "      <td>41</td>\n",
       "      <td>0.9</td>\n",
       "      <td>145</td>\n",
       "      <td>5</td>\n",
       "      <td>...</td>\n",
       "      <td>1263</td>\n",
       "      <td>1716</td>\n",
       "      <td>2603</td>\n",
       "      <td>11</td>\n",
       "      <td>2</td>\n",
       "      <td>9</td>\n",
       "      <td>1</td>\n",
       "      <td>1</td>\n",
       "      <td>0</td>\n",
       "      <td>2</td>\n",
       "    </tr>\n",
       "    <tr>\n",
       "      <th>3</th>\n",
       "      <td>615</td>\n",
       "      <td>1</td>\n",
       "      <td>2.5</td>\n",
       "      <td>0</td>\n",
       "      <td>0</td>\n",
       "      <td>0</td>\n",
       "      <td>10</td>\n",
       "      <td>0.8</td>\n",
       "      <td>131</td>\n",
       "      <td>6</td>\n",
       "      <td>...</td>\n",
       "      <td>1216</td>\n",
       "      <td>1786</td>\n",
       "      <td>2769</td>\n",
       "      <td>16</td>\n",
       "      <td>8</td>\n",
       "      <td>11</td>\n",
       "      <td>1</td>\n",
       "      <td>0</td>\n",
       "      <td>0</td>\n",
       "      <td>2</td>\n",
       "    </tr>\n",
       "    <tr>\n",
       "      <th>4</th>\n",
       "      <td>1821</td>\n",
       "      <td>1</td>\n",
       "      <td>1.2</td>\n",
       "      <td>0</td>\n",
       "      <td>13</td>\n",
       "      <td>1</td>\n",
       "      <td>44</td>\n",
       "      <td>0.6</td>\n",
       "      <td>141</td>\n",
       "      <td>2</td>\n",
       "      <td>...</td>\n",
       "      <td>1208</td>\n",
       "      <td>1212</td>\n",
       "      <td>1411</td>\n",
       "      <td>8</td>\n",
       "      <td>2</td>\n",
       "      <td>15</td>\n",
       "      <td>1</td>\n",
       "      <td>1</td>\n",
       "      <td>0</td>\n",
       "      <td>1</td>\n",
       "    </tr>\n",
       "  </tbody>\n",
       "</table>\n",
       "<p>5 rows × 21 columns</p>\n",
       "</div>"
      ],
      "text/plain": [
       "   battery_power  blue  clock_speed  dual_sim  fc  four_g  int_memory  m_dep  \\\n",
       "0            842     0          2.2         0   1       0           7    0.6   \n",
       "1           1021     1          0.5         1   0       1          53    0.7   \n",
       "2            563     1          0.5         1   2       1          41    0.9   \n",
       "3            615     1          2.5         0   0       0          10    0.8   \n",
       "4           1821     1          1.2         0  13       1          44    0.6   \n",
       "\n",
       "   mobile_wt  n_cores  ...  px_height  px_width   ram  sc_h  sc_w  talk_time  \\\n",
       "0        188        2  ...         20       756  2549     9     7         19   \n",
       "1        136        3  ...        905      1988  2631    17     3          7   \n",
       "2        145        5  ...       1263      1716  2603    11     2          9   \n",
       "3        131        6  ...       1216      1786  2769    16     8         11   \n",
       "4        141        2  ...       1208      1212  1411     8     2         15   \n",
       "\n",
       "   three_g  touch_screen  wifi  price_range  \n",
       "0        0             0     1            1  \n",
       "1        1             1     0            2  \n",
       "2        1             1     0            2  \n",
       "3        1             0     0            2  \n",
       "4        1             1     0            1  \n",
       "\n",
       "[5 rows x 21 columns]"
      ]
     },
     "execution_count": 42,
     "metadata": {},
     "output_type": "execute_result"
    }
   ],
   "source": [
    "#call data \n",
    "data = pd.read_csv(\"E://codes//Python//train.csv\")\n",
    "print(\"Shape of dataframe: \", data.shape)\n",
    "data.head()"
   ]
  },
  {
   "cell_type": "code",
   "execution_count": 5,
   "metadata": {
    "execution": {
     "iopub.execute_input": "2020-12-06T10:28:25.794482Z",
     "iopub.status.busy": "2020-12-06T10:28:25.793732Z",
     "iopub.status.idle": "2020-12-06T10:28:25.817667Z",
     "shell.execute_reply": "2020-12-06T10:28:25.818303Z"
    },
    "papermill": {
     "duration": 0.087909,
     "end_time": "2020-12-06T10:28:25.818459",
     "exception": false,
     "start_time": "2020-12-06T10:28:25.730550",
     "status": "completed"
    },
    "tags": []
   },
   "outputs": [
    {
     "data": {
      "text/plain": [
       "Series([], dtype: int64)"
      ]
     },
     "execution_count": 5,
     "metadata": {},
     "output_type": "execute_result"
    }
   ],
   "source": [
    "# Missing data\n",
    "\n",
    "missing = data.isnull().sum()\n",
    "missing[missing > 0]"
   ]
  },
  {
   "cell_type": "markdown",
   "metadata": {
    "papermill": {
     "duration": 0.05801,
     "end_time": "2020-12-06T10:28:26.182032",
     "exception": false,
     "start_time": "2020-12-06T10:28:26.124022",
     "status": "completed"
    },
    "tags": []
   },
   "source": [
    "# 4. Data description"
   ]
  },
  {
   "cell_type": "code",
   "execution_count": 43,
   "metadata": {
    "execution": {
     "iopub.execute_input": "2020-12-06T10:28:26.306904Z",
     "iopub.status.busy": "2020-12-06T10:28:26.306065Z",
     "iopub.status.idle": "2020-12-06T10:28:26.310689Z",
     "shell.execute_reply": "2020-12-06T10:28:26.310081Z"
    },
    "papermill": {
     "duration": 0.070986,
     "end_time": "2020-12-06T10:28:26.310821",
     "exception": false,
     "start_time": "2020-12-06T10:28:26.239835",
     "status": "completed"
    },
    "scrolled": true,
    "tags": []
   },
   "outputs": [
    {
     "data": {
      "text/plain": [
       "int64      19\n",
       "float64     2\n",
       "dtype: int64"
      ]
     },
     "execution_count": 43,
     "metadata": {},
     "output_type": "execute_result"
    }
   ],
   "source": [
    "data.dtypes.value_counts()"
   ]
  },
  {
   "cell_type": "code",
   "execution_count": 44,
   "metadata": {
    "execution": {
     "iopub.execute_input": "2020-12-06T10:28:26.805708Z",
     "iopub.status.busy": "2020-12-06T10:28:26.804849Z",
     "iopub.status.idle": "2020-12-06T10:28:26.811327Z",
     "shell.execute_reply": "2020-12-06T10:28:26.810605Z"
    },
    "papermill": {
     "duration": 0.07478,
     "end_time": "2020-12-06T10:28:26.811449",
     "exception": false,
     "start_time": "2020-12-06T10:28:26.736669",
     "status": "completed"
    },
    "tags": []
   },
   "outputs": [],
   "source": [
    "# Standardise all features\n",
    "original_features = data.drop('price_range', axis = 1)\n",
    "standard_features = (original_features - original_features.mean()) / original_features.std()\n",
    "standard_data = pd.concat([data['price_range'], standard_features], axis = 1)"
   ]
  },
  {
   "cell_type": "code",
   "execution_count": 45,
   "metadata": {
    "execution": {
     "iopub.execute_input": "2020-12-06T10:28:26.939737Z",
     "iopub.status.busy": "2020-12-06T10:28:26.938540Z",
     "iopub.status.idle": "2020-12-06T10:28:26.942222Z",
     "shell.execute_reply": "2020-12-06T10:28:26.941462Z"
    },
    "papermill": {
     "duration": 0.070962,
     "end_time": "2020-12-06T10:28:26.942344",
     "exception": false,
     "start_time": "2020-12-06T10:28:26.871382",
     "status": "completed"
    },
    "tags": []
   },
   "outputs": [],
   "source": [
    "# Divide the standardised features into 3 groups \n",
    "feature_1 = standard_data.iloc[:, 1:7]\n",
    "feature_2 = standard_data.iloc[:, 7: 14]\n",
    "feature_3 = standard_data.iloc[:, 14:20]"
   ]
  },
  {
   "cell_type": "markdown",
   "metadata": {
    "papermill": {
     "duration": 0.068541,
     "end_time": "2020-12-06T10:28:27.189391",
     "exception": false,
     "start_time": "2020-12-06T10:28:27.120850",
     "status": "completed"
    },
    "tags": []
   },
   "source": [
    "# 5. Exploratory data analysis (EDA)"
   ]
  },
  {
   "cell_type": "code",
   "execution_count": 35,
   "metadata": {
    "execution": {
     "iopub.execute_input": "2020-12-06T10:28:27.363535Z",
     "iopub.status.busy": "2020-12-06T10:28:27.357841Z",
     "iopub.status.idle": "2020-12-06T10:28:27.370847Z",
     "shell.execute_reply": "2020-12-06T10:28:27.370088Z"
    },
    "papermill": {
     "duration": 0.112122,
     "end_time": "2020-12-06T10:28:27.370981",
     "exception": false,
     "start_time": "2020-12-06T10:28:27.258859",
     "status": "completed"
    },
    "tags": []
   },
   "outputs": [
    {
     "data": {
      "text/html": [
       "<div>\n",
       "<style scoped>\n",
       "    .dataframe tbody tr th:only-of-type {\n",
       "        vertical-align: middle;\n",
       "    }\n",
       "\n",
       "    .dataframe tbody tr th {\n",
       "        vertical-align: top;\n",
       "    }\n",
       "\n",
       "    .dataframe thead th {\n",
       "        text-align: right;\n",
       "    }\n",
       "</style>\n",
       "<table border=\"1\" class=\"dataframe\">\n",
       "  <thead>\n",
       "    <tr style=\"text-align: right;\">\n",
       "      <th></th>\n",
       "      <th>price_range</th>\n",
       "      <th>battery_power</th>\n",
       "      <th>blue</th>\n",
       "      <th>clock_speed</th>\n",
       "      <th>dual_sim</th>\n",
       "      <th>fc</th>\n",
       "      <th>four_g</th>\n",
       "      <th>int_memory</th>\n",
       "      <th>m_dep</th>\n",
       "      <th>mobile_wt</th>\n",
       "      <th>...</th>\n",
       "      <th>pc</th>\n",
       "      <th>px_height</th>\n",
       "      <th>px_width</th>\n",
       "      <th>ram</th>\n",
       "      <th>sc_h</th>\n",
       "      <th>sc_w</th>\n",
       "      <th>talk_time</th>\n",
       "      <th>three_g</th>\n",
       "      <th>touch_screen</th>\n",
       "      <th>wifi</th>\n",
       "    </tr>\n",
       "  </thead>\n",
       "  <tbody>\n",
       "    <tr>\n",
       "      <th>0</th>\n",
       "      <td>1</td>\n",
       "      <td>-0.902372</td>\n",
       "      <td>-0.989802</td>\n",
       "      <td>0.830572</td>\n",
       "      <td>-1.018929</td>\n",
       "      <td>-0.762304</td>\n",
       "      <td>-1.043705</td>\n",
       "      <td>-1.380298</td>\n",
       "      <td>0.340654</td>\n",
       "      <td>1.348911</td>\n",
       "      <td>...</td>\n",
       "      <td>-1.305424</td>\n",
       "      <td>-1.408596</td>\n",
       "      <td>-1.146497</td>\n",
       "      <td>0.391605</td>\n",
       "      <td>-0.784787</td>\n",
       "      <td>0.283032</td>\n",
       "      <td>1.462128</td>\n",
       "      <td>-1.786414</td>\n",
       "      <td>-1.005767</td>\n",
       "      <td>0.985850</td>\n",
       "    </tr>\n",
       "    <tr>\n",
       "      <th>1</th>\n",
       "      <td>2</td>\n",
       "      <td>-0.495015</td>\n",
       "      <td>1.009798</td>\n",
       "      <td>-1.252751</td>\n",
       "      <td>0.980932</td>\n",
       "      <td>-0.992642</td>\n",
       "      <td>0.957646</td>\n",
       "      <td>1.154735</td>\n",
       "      <td>0.687376</td>\n",
       "      <td>-0.120029</td>\n",
       "      <td>...</td>\n",
       "      <td>-0.645827</td>\n",
       "      <td>0.585631</td>\n",
       "      <td>1.704039</td>\n",
       "      <td>0.467200</td>\n",
       "      <td>1.113987</td>\n",
       "      <td>-0.635158</td>\n",
       "      <td>-0.734084</td>\n",
       "      <td>0.559501</td>\n",
       "      <td>0.993769</td>\n",
       "      <td>-1.013846</td>\n",
       "    </tr>\n",
       "    <tr>\n",
       "      <th>2</th>\n",
       "      <td>2</td>\n",
       "      <td>-1.537302</td>\n",
       "      <td>1.009798</td>\n",
       "      <td>-1.252751</td>\n",
       "      <td>0.980932</td>\n",
       "      <td>-0.531966</td>\n",
       "      <td>0.957646</td>\n",
       "      <td>0.493422</td>\n",
       "      <td>1.380820</td>\n",
       "      <td>0.134210</td>\n",
       "      <td>...</td>\n",
       "      <td>-0.645827</td>\n",
       "      <td>1.392336</td>\n",
       "      <td>1.074699</td>\n",
       "      <td>0.441387</td>\n",
       "      <td>-0.310094</td>\n",
       "      <td>-0.864705</td>\n",
       "      <td>-0.368048</td>\n",
       "      <td>0.559501</td>\n",
       "      <td>0.993769</td>\n",
       "      <td>-1.013846</td>\n",
       "    </tr>\n",
       "    <tr>\n",
       "      <th>3</th>\n",
       "      <td>2</td>\n",
       "      <td>-1.418964</td>\n",
       "      <td>1.009798</td>\n",
       "      <td>1.198217</td>\n",
       "      <td>-1.018929</td>\n",
       "      <td>-0.992642</td>\n",
       "      <td>-1.043705</td>\n",
       "      <td>-1.214970</td>\n",
       "      <td>1.034098</td>\n",
       "      <td>-0.261274</td>\n",
       "      <td>...</td>\n",
       "      <td>-0.151130</td>\n",
       "      <td>1.286428</td>\n",
       "      <td>1.236662</td>\n",
       "      <td>0.594421</td>\n",
       "      <td>0.876640</td>\n",
       "      <td>0.512579</td>\n",
       "      <td>-0.002013</td>\n",
       "      <td>0.559501</td>\n",
       "      <td>-1.005767</td>\n",
       "      <td>-1.013846</td>\n",
       "    </tr>\n",
       "    <tr>\n",
       "      <th>4</th>\n",
       "      <td>1</td>\n",
       "      <td>1.325574</td>\n",
       "      <td>1.009798</td>\n",
       "      <td>-0.394912</td>\n",
       "      <td>-1.018929</td>\n",
       "      <td>2.001753</td>\n",
       "      <td>0.957646</td>\n",
       "      <td>0.658751</td>\n",
       "      <td>0.340654</td>\n",
       "      <td>0.021215</td>\n",
       "      <td>...</td>\n",
       "      <td>0.673365</td>\n",
       "      <td>1.268401</td>\n",
       "      <td>-0.091429</td>\n",
       "      <td>-0.657502</td>\n",
       "      <td>-1.022134</td>\n",
       "      <td>-0.864705</td>\n",
       "      <td>0.730057</td>\n",
       "      <td>0.559501</td>\n",
       "      <td>0.993769</td>\n",
       "      <td>-1.013846</td>\n",
       "    </tr>\n",
       "  </tbody>\n",
       "</table>\n",
       "<p>5 rows × 21 columns</p>\n",
       "</div>"
      ],
      "text/plain": [
       "   price_range  battery_power      blue  clock_speed  dual_sim        fc  \\\n",
       "0            1      -0.902372 -0.989802     0.830572 -1.018929 -0.762304   \n",
       "1            2      -0.495015  1.009798    -1.252751  0.980932 -0.992642   \n",
       "2            2      -1.537302  1.009798    -1.252751  0.980932 -0.531966   \n",
       "3            2      -1.418964  1.009798     1.198217 -1.018929 -0.992642   \n",
       "4            1       1.325574  1.009798    -0.394912 -1.018929  2.001753   \n",
       "\n",
       "     four_g  int_memory     m_dep  mobile_wt  ...        pc  px_height  \\\n",
       "0 -1.043705   -1.380298  0.340654   1.348911  ... -1.305424  -1.408596   \n",
       "1  0.957646    1.154735  0.687376  -0.120029  ... -0.645827   0.585631   \n",
       "2  0.957646    0.493422  1.380820   0.134210  ... -0.645827   1.392336   \n",
       "3 -1.043705   -1.214970  1.034098  -0.261274  ... -0.151130   1.286428   \n",
       "4  0.957646    0.658751  0.340654   0.021215  ...  0.673365   1.268401   \n",
       "\n",
       "   px_width       ram      sc_h      sc_w  talk_time   three_g  touch_screen  \\\n",
       "0 -1.146497  0.391605 -0.784787  0.283032   1.462128 -1.786414     -1.005767   \n",
       "1  1.704039  0.467200  1.113987 -0.635158  -0.734084  0.559501      0.993769   \n",
       "2  1.074699  0.441387 -0.310094 -0.864705  -0.368048  0.559501      0.993769   \n",
       "3  1.236662  0.594421  0.876640  0.512579  -0.002013  0.559501     -1.005767   \n",
       "4 -0.091429 -0.657502 -1.022134 -0.864705   0.730057  0.559501      0.993769   \n",
       "\n",
       "       wifi  \n",
       "0  0.985850  \n",
       "1 -1.013846  \n",
       "2 -1.013846  \n",
       "3 -1.013846  \n",
       "4 -1.013846  \n",
       "\n",
       "[5 rows x 21 columns]"
      ]
     },
     "execution_count": 35,
     "metadata": {},
     "output_type": "execute_result"
    }
   ],
   "source": [
    "standard_data.head()"
   ]
  },
  {
   "cell_type": "markdown",
   "metadata": {
    "papermill": {
     "duration": 0.065829,
     "end_time": "2020-12-06T10:28:27.500766",
     "exception": false,
     "start_time": "2020-12-06T10:28:27.434937",
     "status": "completed"
    },
    "tags": []
   },
   "source": [
    "# 5.1 Target variable"
   ]
  },
  {
   "cell_type": "code",
   "execution_count": 37,
   "metadata": {
    "execution": {
     "iopub.execute_input": "2020-12-06T10:28:27.768461Z",
     "iopub.status.busy": "2020-12-06T10:28:27.767515Z",
     "iopub.status.idle": "2020-12-06T10:28:27.772816Z",
     "shell.execute_reply": "2020-12-06T10:28:27.772186Z"
    },
    "papermill": {
     "duration": 0.075223,
     "end_time": "2020-12-06T10:28:27.772938",
     "exception": false,
     "start_time": "2020-12-06T10:28:27.697715",
     "status": "completed"
    },
    "tags": []
   },
   "outputs": [
    {
     "data": {
      "text/plain": [
       "1    500\n",
       "2    500\n",
       "3    500\n",
       "0    500\n",
       "Name: price_range, dtype: int64"
      ]
     },
     "execution_count": 37,
     "metadata": {},
     "output_type": "execute_result"
    }
   ],
   "source": [
    "# Value counts \n",
    "\n",
    "target = data['price_range'] #or we can choose last colom -1\n",
    "target.value_counts()"
   ]
  },
  {
   "cell_type": "code",
   "execution_count": 13,
   "metadata": {
    "execution": {
     "iopub.execute_input": "2020-12-06T10:28:40.455210Z",
     "iopub.status.busy": "2020-12-06T10:28:40.454253Z",
     "iopub.status.idle": "2020-12-06T10:28:40.459412Z",
     "shell.execute_reply": "2020-12-06T10:28:40.458835Z"
    },
    "papermill": {
     "duration": 0.097535,
     "end_time": "2020-12-06T10:28:40.459557",
     "exception": false,
     "start_time": "2020-12-06T10:28:40.362022",
     "status": "completed"
    },
    "tags": []
   },
   "outputs": [
    {
     "data": {
      "text/html": [
       "<div>\n",
       "<style scoped>\n",
       "    .dataframe tbody tr th:only-of-type {\n",
       "        vertical-align: middle;\n",
       "    }\n",
       "\n",
       "    .dataframe tbody tr th {\n",
       "        vertical-align: top;\n",
       "    }\n",
       "\n",
       "    .dataframe thead th {\n",
       "        text-align: right;\n",
       "    }\n",
       "</style>\n",
       "<table border=\"1\" class=\"dataframe\">\n",
       "  <thead>\n",
       "    <tr style=\"text-align: right;\">\n",
       "      <th></th>\n",
       "      <th>price_range</th>\n",
       "      <th>battery_power</th>\n",
       "      <th>blue</th>\n",
       "      <th>clock_speed</th>\n",
       "      <th>dual_sim</th>\n",
       "      <th>fc</th>\n",
       "      <th>four_g</th>\n",
       "    </tr>\n",
       "  </thead>\n",
       "  <tbody>\n",
       "    <tr>\n",
       "      <th>0</th>\n",
       "      <td>1</td>\n",
       "      <td>-0.902372</td>\n",
       "      <td>-0.989802</td>\n",
       "      <td>0.830572</td>\n",
       "      <td>-1.018929</td>\n",
       "      <td>-0.762304</td>\n",
       "      <td>-1.043705</td>\n",
       "    </tr>\n",
       "    <tr>\n",
       "      <th>1</th>\n",
       "      <td>2</td>\n",
       "      <td>-0.495015</td>\n",
       "      <td>1.009798</td>\n",
       "      <td>-1.252751</td>\n",
       "      <td>0.980932</td>\n",
       "      <td>-0.992642</td>\n",
       "      <td>0.957646</td>\n",
       "    </tr>\n",
       "    <tr>\n",
       "      <th>2</th>\n",
       "      <td>2</td>\n",
       "      <td>-1.537302</td>\n",
       "      <td>1.009798</td>\n",
       "      <td>-1.252751</td>\n",
       "      <td>0.980932</td>\n",
       "      <td>-0.531966</td>\n",
       "      <td>0.957646</td>\n",
       "    </tr>\n",
       "    <tr>\n",
       "      <th>3</th>\n",
       "      <td>2</td>\n",
       "      <td>-1.418964</td>\n",
       "      <td>1.009798</td>\n",
       "      <td>1.198217</td>\n",
       "      <td>-1.018929</td>\n",
       "      <td>-0.992642</td>\n",
       "      <td>-1.043705</td>\n",
       "    </tr>\n",
       "    <tr>\n",
       "      <th>4</th>\n",
       "      <td>1</td>\n",
       "      <td>1.325574</td>\n",
       "      <td>1.009798</td>\n",
       "      <td>-0.394912</td>\n",
       "      <td>-1.018929</td>\n",
       "      <td>2.001753</td>\n",
       "      <td>0.957646</td>\n",
       "    </tr>\n",
       "  </tbody>\n",
       "</table>\n",
       "</div>"
      ],
      "text/plain": [
       "   price_range  battery_power      blue  clock_speed  dual_sim        fc  \\\n",
       "0            1      -0.902372 -0.989802     0.830572 -1.018929 -0.762304   \n",
       "1            2      -0.495015  1.009798    -1.252751  0.980932 -0.992642   \n",
       "2            2      -1.537302  1.009798    -1.252751  0.980932 -0.531966   \n",
       "3            2      -1.418964  1.009798     1.198217 -1.018929 -0.992642   \n",
       "4            1       1.325574  1.009798    -0.394912 -1.018929  2.001753   \n",
       "\n",
       "     four_g  \n",
       "0 -1.043705  \n",
       "1  0.957646  \n",
       "2  0.957646  \n",
       "3 -1.043705  \n",
       "4  0.957646  "
      ]
     },
     "execution_count": 13,
     "metadata": {},
     "output_type": "execute_result"
    }
   ],
   "source": [
    "feature_mean = pd.concat([target, feature_mean], axis = 1)\n",
    "feature_mean.head()"
   ]
  },
  {
   "cell_type": "code",
   "execution_count": 15,
   "metadata": {
    "execution": {
     "iopub.execute_input": "2020-12-06T10:28:40.625432Z",
     "iopub.status.busy": "2020-12-06T10:28:40.624341Z",
     "iopub.status.idle": "2020-12-06T10:28:40.629388Z",
     "shell.execute_reply": "2020-12-06T10:28:40.628691Z"
    },
    "papermill": {
     "duration": 0.094708,
     "end_time": "2020-12-06T10:28:40.629524",
     "exception": false,
     "start_time": "2020-12-06T10:28:40.534816",
     "status": "completed"
    },
    "tags": []
   },
   "outputs": [
    {
     "data": {
      "text/html": [
       "<div>\n",
       "<style scoped>\n",
       "    .dataframe tbody tr th:only-of-type {\n",
       "        vertical-align: middle;\n",
       "    }\n",
       "\n",
       "    .dataframe tbody tr th {\n",
       "        vertical-align: top;\n",
       "    }\n",
       "\n",
       "    .dataframe thead th {\n",
       "        text-align: right;\n",
       "    }\n",
       "</style>\n",
       "<table border=\"1\" class=\"dataframe\">\n",
       "  <thead>\n",
       "    <tr style=\"text-align: right;\">\n",
       "      <th></th>\n",
       "      <th>price_range</th>\n",
       "      <th>feature</th>\n",
       "      <th>value</th>\n",
       "    </tr>\n",
       "  </thead>\n",
       "  <tbody>\n",
       "    <tr>\n",
       "      <th>0</th>\n",
       "      <td>1</td>\n",
       "      <td>battery_power</td>\n",
       "      <td>-0.902372</td>\n",
       "    </tr>\n",
       "    <tr>\n",
       "      <th>1</th>\n",
       "      <td>2</td>\n",
       "      <td>battery_power</td>\n",
       "      <td>-0.495015</td>\n",
       "    </tr>\n",
       "    <tr>\n",
       "      <th>2</th>\n",
       "      <td>2</td>\n",
       "      <td>battery_power</td>\n",
       "      <td>-1.537302</td>\n",
       "    </tr>\n",
       "    <tr>\n",
       "      <th>3</th>\n",
       "      <td>2</td>\n",
       "      <td>battery_power</td>\n",
       "      <td>-1.418964</td>\n",
       "    </tr>\n",
       "    <tr>\n",
       "      <th>4</th>\n",
       "      <td>1</td>\n",
       "      <td>battery_power</td>\n",
       "      <td>1.325574</td>\n",
       "    </tr>\n",
       "  </tbody>\n",
       "</table>\n",
       "</div>"
      ],
      "text/plain": [
       "   price_range        feature     value\n",
       "0            1  battery_power -0.902372\n",
       "1            2  battery_power -0.495015\n",
       "2            2  battery_power -1.537302\n",
       "3            2  battery_power -1.418964\n",
       "4            1  battery_power  1.325574"
      ]
     },
     "execution_count": 15,
     "metadata": {},
     "output_type": "execute_result"
    }
   ],
   "source": [
    "mean_melt = pd.melt(feature_mean, id_vars = 'price_range', var_name = 'feature', value_name = 'value')\n",
    "mean_melt.head()"
   ]
  },
  {
   "cell_type": "code",
   "execution_count": 16,
   "metadata": {
    "execution": {
     "iopub.execute_input": "2020-12-06T10:28:42.746459Z",
     "iopub.status.busy": "2020-12-06T10:28:42.737142Z",
     "iopub.status.idle": "2020-12-06T10:28:42.756409Z",
     "shell.execute_reply": "2020-12-06T10:28:42.757022Z"
    },
    "papermill": {
     "duration": 0.1165,
     "end_time": "2020-12-06T10:28:42.757185",
     "exception": false,
     "start_time": "2020-12-06T10:28:42.640685",
     "status": "completed"
    },
    "scrolled": true,
    "tags": []
   },
   "outputs": [
    {
     "data": {
      "text/html": [
       "<div>\n",
       "<style scoped>\n",
       "    .dataframe tbody tr th:only-of-type {\n",
       "        vertical-align: middle;\n",
       "    }\n",
       "\n",
       "    .dataframe tbody tr th {\n",
       "        vertical-align: top;\n",
       "    }\n",
       "\n",
       "    .dataframe thead th {\n",
       "        text-align: right;\n",
       "    }\n",
       "</style>\n",
       "<table border=\"1\" class=\"dataframe\">\n",
       "  <thead>\n",
       "    <tr style=\"text-align: right;\">\n",
       "      <th></th>\n",
       "      <th>battery_power</th>\n",
       "      <th>blue</th>\n",
       "      <th>clock_speed</th>\n",
       "      <th>dual_sim</th>\n",
       "      <th>fc</th>\n",
       "      <th>four_g</th>\n",
       "      <th>int_memory</th>\n",
       "      <th>m_dep</th>\n",
       "      <th>mobile_wt</th>\n",
       "      <th>n_cores</th>\n",
       "      <th>...</th>\n",
       "      <th>px_height</th>\n",
       "      <th>px_width</th>\n",
       "      <th>ram</th>\n",
       "      <th>sc_h</th>\n",
       "      <th>sc_w</th>\n",
       "      <th>talk_time</th>\n",
       "      <th>three_g</th>\n",
       "      <th>touch_screen</th>\n",
       "      <th>wifi</th>\n",
       "      <th>price_range</th>\n",
       "    </tr>\n",
       "  </thead>\n",
       "  <tbody>\n",
       "    <tr>\n",
       "      <th>0</th>\n",
       "      <td>842</td>\n",
       "      <td>0</td>\n",
       "      <td>2.2</td>\n",
       "      <td>0</td>\n",
       "      <td>1</td>\n",
       "      <td>0</td>\n",
       "      <td>7</td>\n",
       "      <td>0.6</td>\n",
       "      <td>188</td>\n",
       "      <td>2</td>\n",
       "      <td>...</td>\n",
       "      <td>20</td>\n",
       "      <td>756</td>\n",
       "      <td>2549</td>\n",
       "      <td>9</td>\n",
       "      <td>7</td>\n",
       "      <td>19</td>\n",
       "      <td>0</td>\n",
       "      <td>0</td>\n",
       "      <td>1</td>\n",
       "      <td>1</td>\n",
       "    </tr>\n",
       "    <tr>\n",
       "      <th>1</th>\n",
       "      <td>1021</td>\n",
       "      <td>1</td>\n",
       "      <td>0.5</td>\n",
       "      <td>1</td>\n",
       "      <td>0</td>\n",
       "      <td>1</td>\n",
       "      <td>53</td>\n",
       "      <td>0.7</td>\n",
       "      <td>136</td>\n",
       "      <td>3</td>\n",
       "      <td>...</td>\n",
       "      <td>905</td>\n",
       "      <td>1988</td>\n",
       "      <td>2631</td>\n",
       "      <td>17</td>\n",
       "      <td>3</td>\n",
       "      <td>7</td>\n",
       "      <td>1</td>\n",
       "      <td>1</td>\n",
       "      <td>0</td>\n",
       "      <td>2</td>\n",
       "    </tr>\n",
       "    <tr>\n",
       "      <th>2</th>\n",
       "      <td>563</td>\n",
       "      <td>1</td>\n",
       "      <td>0.5</td>\n",
       "      <td>1</td>\n",
       "      <td>2</td>\n",
       "      <td>1</td>\n",
       "      <td>41</td>\n",
       "      <td>0.9</td>\n",
       "      <td>145</td>\n",
       "      <td>5</td>\n",
       "      <td>...</td>\n",
       "      <td>1263</td>\n",
       "      <td>1716</td>\n",
       "      <td>2603</td>\n",
       "      <td>11</td>\n",
       "      <td>2</td>\n",
       "      <td>9</td>\n",
       "      <td>1</td>\n",
       "      <td>1</td>\n",
       "      <td>0</td>\n",
       "      <td>2</td>\n",
       "    </tr>\n",
       "    <tr>\n",
       "      <th>3</th>\n",
       "      <td>615</td>\n",
       "      <td>1</td>\n",
       "      <td>2.5</td>\n",
       "      <td>0</td>\n",
       "      <td>0</td>\n",
       "      <td>0</td>\n",
       "      <td>10</td>\n",
       "      <td>0.8</td>\n",
       "      <td>131</td>\n",
       "      <td>6</td>\n",
       "      <td>...</td>\n",
       "      <td>1216</td>\n",
       "      <td>1786</td>\n",
       "      <td>2769</td>\n",
       "      <td>16</td>\n",
       "      <td>8</td>\n",
       "      <td>11</td>\n",
       "      <td>1</td>\n",
       "      <td>0</td>\n",
       "      <td>0</td>\n",
       "      <td>2</td>\n",
       "    </tr>\n",
       "    <tr>\n",
       "      <th>4</th>\n",
       "      <td>1821</td>\n",
       "      <td>1</td>\n",
       "      <td>1.2</td>\n",
       "      <td>0</td>\n",
       "      <td>13</td>\n",
       "      <td>1</td>\n",
       "      <td>44</td>\n",
       "      <td>0.6</td>\n",
       "      <td>141</td>\n",
       "      <td>2</td>\n",
       "      <td>...</td>\n",
       "      <td>1208</td>\n",
       "      <td>1212</td>\n",
       "      <td>1411</td>\n",
       "      <td>8</td>\n",
       "      <td>2</td>\n",
       "      <td>15</td>\n",
       "      <td>1</td>\n",
       "      <td>1</td>\n",
       "      <td>0</td>\n",
       "      <td>1</td>\n",
       "    </tr>\n",
       "  </tbody>\n",
       "</table>\n",
       "<p>5 rows × 21 columns</p>\n",
       "</div>"
      ],
      "text/plain": [
       "   battery_power  blue  clock_speed  dual_sim  fc  four_g  int_memory  m_dep  \\\n",
       "0            842     0          2.2         0   1       0           7    0.6   \n",
       "1           1021     1          0.5         1   0       1          53    0.7   \n",
       "2            563     1          0.5         1   2       1          41    0.9   \n",
       "3            615     1          2.5         0   0       0          10    0.8   \n",
       "4           1821     1          1.2         0  13       1          44    0.6   \n",
       "\n",
       "   mobile_wt  n_cores  ...  px_height  px_width   ram  sc_h  sc_w  talk_time  \\\n",
       "0        188        2  ...         20       756  2549     9     7         19   \n",
       "1        136        3  ...        905      1988  2631    17     3          7   \n",
       "2        145        5  ...       1263      1716  2603    11     2          9   \n",
       "3        131        6  ...       1216      1786  2769    16     8         11   \n",
       "4        141        2  ...       1208      1212  1411     8     2         15   \n",
       "\n",
       "   three_g  touch_screen  wifi  price_range  \n",
       "0        0             0     1            1  \n",
       "1        1             1     0            2  \n",
       "2        1             1     0            2  \n",
       "3        1             0     0            2  \n",
       "4        1             1     0            1  \n",
       "\n",
       "[5 rows x 21 columns]"
      ]
     },
     "execution_count": 16,
     "metadata": {},
     "output_type": "execute_result"
    }
   ],
   "source": [
    "data.head()"
   ]
  },
  {
   "cell_type": "code",
   "execution_count": 17,
   "metadata": {
    "execution": {
     "iopub.execute_input": "2020-12-06T10:28:43.092357Z",
     "iopub.status.busy": "2020-12-06T10:28:43.091604Z",
     "iopub.status.idle": "2020-12-06T10:28:43.095998Z",
     "shell.execute_reply": "2020-12-06T10:28:43.095212Z"
    },
    "papermill": {
     "duration": 0.095406,
     "end_time": "2020-12-06T10:28:43.096129",
     "exception": false,
     "start_time": "2020-12-06T10:28:43.000723",
     "status": "completed"
    },
    "scrolled": true,
    "tags": []
   },
   "outputs": [
    {
     "name": "stdout",
     "output_type": "stream",
     "text": [
      "X_train shape:  (1400, 20)\n",
      "Y_train shape:  (1400,)\n",
      "X_test shape:  (600, 20)\n",
      "Y_test shape:  (600,)\n"
     ]
    }
   ],
   "source": [
    "# Train test split \n",
    "\n",
    "X_train, X_test, Y_train, Y_test = train_test_split(original_features, target, test_size = 0.3, random_state = 10)\n",
    "print(\"X_train shape: \", X_train.shape)\n",
    "print(\"Y_train shape: \", Y_train.shape)\n",
    "print(\"X_test shape: \", X_test.shape)\n",
    "print(\"Y_test shape: \", Y_test.shape)"
   ]
  },
  {
   "cell_type": "code",
   "execution_count": 18,
   "metadata": {
    "execution": {
     "iopub.execute_input": "2020-12-06T10:28:43.434530Z",
     "iopub.status.busy": "2020-12-06T10:28:43.433797Z",
     "iopub.status.idle": "2020-12-06T10:28:43.715960Z",
     "shell.execute_reply": "2020-12-06T10:28:43.715249Z"
    },
    "papermill": {
     "duration": 0.372247,
     "end_time": "2020-12-06T10:28:43.716083",
     "exception": false,
     "start_time": "2020-12-06T10:28:43.343836",
     "status": "completed"
    },
    "tags": []
   },
   "outputs": [],
   "source": [
    "# Fit random forest classifier to training set and make predictions on test set\n",
    "rf = RandomForestClassifier(random_state = 42)\n",
    "rf.fit(X_train, Y_train)\n",
    "Y_pred = rf.predict(X_test)"
   ]
  },
  {
   "cell_type": "code",
   "execution_count": 20,
   "metadata": {
    "execution": {
     "iopub.execute_input": "2020-12-06T10:28:43.889673Z",
     "iopub.status.busy": "2020-12-06T10:28:43.888567Z",
     "iopub.status.idle": "2020-12-06T10:28:44.080305Z",
     "shell.execute_reply": "2020-12-06T10:28:44.079611Z"
    },
    "papermill": {
     "duration": 0.281872,
     "end_time": "2020-12-06T10:28:44.080431",
     "exception": false,
     "start_time": "2020-12-06T10:28:43.798559",
     "status": "completed"
    },
    "tags": []
   },
   "outputs": [
    {
     "name": "stdout",
     "output_type": "stream",
     "text": [
      "Accuracy: 86.67%\n"
     ]
    }
   ],
   "source": [
    "# Evaluate model accuracy \n",
    "accuracy = accuracy_score(Y_pred, Y_test) * 100\n",
    "print(\"Accuracy: {:.2f}%\".format(accuracy))\n"
   ]
  },
  {
   "cell_type": "markdown",
   "metadata": {
    "papermill": {
     "duration": 0.092948,
     "end_time": "2020-12-06T10:28:46.508185",
     "exception": false,
     "start_time": "2020-12-06T10:28:46.415237",
     "status": "completed"
    },
    "tags": []
   },
   "source": [
    "#                                                                  Univariate feature selection"
   ]
  },
  {
   "cell_type": "code",
   "execution_count": 26,
   "metadata": {
    "execution": {
     "iopub.execute_input": "2020-12-06T10:28:46.697079Z",
     "iopub.status.busy": "2020-12-06T10:28:46.696038Z",
     "iopub.status.idle": "2020-12-06T10:28:46.699604Z",
     "shell.execute_reply": "2020-12-06T10:28:46.698862Z"
    },
    "papermill": {
     "duration": 0.103106,
     "end_time": "2020-12-06T10:28:46.699727",
     "exception": false,
     "start_time": "2020-12-06T10:28:46.596621",
     "status": "completed"
    },
    "tags": []
   },
   "outputs": [],
   "source": [
    "# Train test split\n",
    "\n",
    "X_train, X_test, Y_train, Y_test = train_test_split(original_features, target, test_size = 0.3, random_state = 10)"
   ]
  },
  {
   "cell_type": "code",
   "execution_count": 27,
   "metadata": {
    "execution": {
     "iopub.execute_input": "2020-12-06T10:28:46.885333Z",
     "iopub.status.busy": "2020-12-06T10:28:46.884524Z",
     "iopub.status.idle": "2020-12-06T10:28:46.894480Z",
     "shell.execute_reply": "2020-12-06T10:28:46.893302Z"
    },
    "papermill": {
     "duration": 0.10723,
     "end_time": "2020-12-06T10:28:46.894701",
     "exception": false,
     "start_time": "2020-12-06T10:28:46.787471",
     "status": "completed"
    },
    "tags": []
   },
   "outputs": [
    {
     "name": "stdout",
     "output_type": "stream",
     "text": [
      "Top 5 features:  ['battery_power', 'mobile_wt', 'px_height', 'px_width', 'ram']\n"
     ]
    }
   ],
   "source": [
    "# Instantiate select features\n",
    "select_features = SelectKBest(chi2, k = 5).fit(X_train, Y_train)\n",
    "\n",
    "# Top 5 features\n",
    "selected_features = select_features.get_support()\n",
    "print(\"Top 5 features: \", list(X_train.columns[selected_features]))"
   ]
  },
  {
   "cell_type": "code",
   "execution_count": 28,
   "metadata": {
    "execution": {
     "iopub.execute_input": "2020-12-06T10:28:47.131245Z",
     "iopub.status.busy": "2020-12-06T10:28:47.094958Z",
     "iopub.status.idle": "2020-12-06T10:28:47.530552Z",
     "shell.execute_reply": "2020-12-06T10:28:47.529927Z"
    },
    "papermill": {
     "duration": 0.538975,
     "end_time": "2020-12-06T10:28:47.530682",
     "exception": false,
     "start_time": "2020-12-06T10:28:46.991707",
     "status": "completed"
    },
    "tags": []
   },
   "outputs": [
    {
     "name": "stdout",
     "output_type": "stream",
     "text": [
      "Accuracy: 91.67%\n"
     ]
    }
   ],
   "source": [
    "# Apply select features to training and test set\n",
    "X_train = select_features.transform(X_train)\n",
    "X_test = select_features.transform(X_test)\n",
    "\n",
    "# Fit model to data and make predictions\n",
    "rf = RandomForestClassifier(random_state = 42)\n",
    "rf.fit(X_train, Y_train)\n",
    "Y_pred = rf.predict(X_test)\n",
    "\n",
    "# Evaluate model accuracy \n",
    "accuracy = accuracy_score(Y_pred, Y_test) * 100\n",
    "print(\"Accuracy: {:.2f}%\".format(accuracy))\n"
   ]
  }
 ],
 "metadata": {
  "kernelspec": {
   "display_name": "Python 3",
   "language": "python",
   "name": "python3"
  },
  "language_info": {
   "codemirror_mode": {
    "name": "ipython",
    "version": 3
   },
   "file_extension": ".py",
   "mimetype": "text/x-python",
   "name": "python",
   "nbconvert_exporter": "python",
   "pygments_lexer": "ipython3",
   "version": "3.11.2"
  },
  "papermill": {
   "duration": 45.126741,
   "end_time": "2020-12-06T10:29:03.400839",
   "environment_variables": {},
   "exception": null,
   "input_path": "__notebook__.ipynb",
   "output_path": "__notebook__.ipynb",
   "parameters": {},
   "start_time": "2020-12-06T10:28:18.274098",
   "version": "2.1.0"
  }
 },
 "nbformat": 4,
 "nbformat_minor": 4
}
